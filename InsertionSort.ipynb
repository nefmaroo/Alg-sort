{
 "cells": [
  {
   "cell_type": "code",
   "execution_count": null,
   "metadata": {},
   "outputs": [],
   "source": [
    "import matplotlib\n",
    "import matplotlib.pyplot as plt\n",
    "import csv\n",
    "\n",
    "x, y1, y2, y3, y4 = [],[],[]\n",
    "          \n",
    "with open('insertion.csv', 'r') as csvfile:\n",
    "    plots = csv.reader(csvfile, delimiter=',')\n",
    "    for row in plots:\n",
    "        x.append(float(row[0]))\n",
    "        y1.append(float(row[1]))\n",
    "        y2.append(float(row[2]))\n",
    "        y3.append(float(row[3]))\n",
    "        y4.append(float(row[4]))\n",
    "\n",
    "plt.subplots(figsize= (80,60))\n",
    "\n",
    "plt.plot(x,y1,color=\"yellow\", linewidth=3,label = \"Insertion sort for vector of integers\")\n",
    "plt.plot(x,y2,color=\"freen\", linewidth=3,label = \"Insertion sort for vector of strings\")\n",
    "plt.plot(x,y3,color=\"pink\", linewidth=3, label = \"Insertion sort for linked list of integers\")\n",
    "plt.plot(x,y4,color=\"blue\", linewidth=3, label = \"Insertion sort for linked list of strings\")\n",
    "\n",
    "plt.title('The dependence the speed of the algorithms on the value of the variable')\n",
    "\n",
    "plt.xlabel('x -The value of the variable')\n",
    "plt.ylabel('y -Time required')\n",
    "plt.legend(loc='best')\n",
    "plt.grid(True)\n",
    "plt.show()"
   ]
  }
 ],
 "metadata": {
  "kernelspec": {
   "display_name": "Python 3",
   "language": "python",
   "name": "python3"
  },
  "language_info": {
   "codemirror_mode": {
    "name": "ipython",
    "version": 3
   },
   "file_extension": ".py",
   "mimetype": "text/x-python",
   "name": "python",
   "nbconvert_exporter": "python",
   "pygments_lexer": "ipython3",
   "version": "3.6.5"
  }
 },
 "nbformat": 4,
 "nbformat_minor": 2
}
