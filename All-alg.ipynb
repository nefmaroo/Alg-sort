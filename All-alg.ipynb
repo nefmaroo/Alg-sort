{
 "cells": [
  {
   "cell_type": "code",
   "execution_count": null,
   "metadata": {},
   "outputs": [],
   "source": [
    "import matplotlib\n",
    "import matplotlib.pyplot as plt\n",
    "import csv\n",
    "\n",
    "x,y1,y2,y3,y3,y4,y5,y6,y7,y8,y9,y10,y11=[],[],[],[],[],[],[],[],[],[],[],[],[],[],[]\n",
    "          \n",
    "with open('out.csv', 'r') as csvfile: #plug your csv file \n",
    "    plots = csv.reader(csvfile, delimiter=',')\n",
    "    for row in plots:\n",
    "        x.append(float(row[0]))\n",
    "        y1.append(float(row[1]))\n",
    "        y2.append(float(row[2]))\n",
    "        y3.append(float(row[3]))\n",
    "        y4.append(float(row[4]))\n",
    "        y5.append(float(row[5]))\n",
    "        y6.append(float(row[6]))\n",
    "        y7.append(float(row[7]))\n",
    "        y8.append(float(row[8]))\n",
    "        y9.append(float(row[9]))\n",
    "        y10.append(float(row[10]))\n",
    "        y11.append(float(row[11]))\n",
    "        \n",
    "\n",
    "plt.subplots(figsize= (80,60))\n",
    "\n",
    "plt.plot(x,y1,color=\"yellowgreen\", linewidth=3,label = \"Quick sort for vector of integers\")\n",
    "plt.plot(x,y2,color=\"purple\", linewidth=3,label = \"Quick sort for vector of strings\")\n",
    "plt.plot(x,y3,color=\"pink\", linewidth=3, label = \"Quick sort for linked-list of integers\")\n",
    "plt.plot(x,y4,color=\"brown\", linewidth=3, label = \"Quick sort for linked-list of strings\")\n",
    "plt.plot(x,y5,color=\"gold\", linewidth=3, label = \"Megre sort for vector of strings\")\n",
    "plt.plot(x,y6,color=\"lavender\", linewidth=3, label = \"Megre sort for vector of integers\")\n",
    "plt.plot(x,y7,color=\"indigo\", linewidth=3, label = \"Insertion sort for vector of integers\")\n",
    "plt.plot(x,y8,color=\"magenta\", linewidth=3, label = \"Insertion sort for vector of strings\")\n",
    "plt.plot(x,y9,color=\"yellow\", linewidth=3, label = \"Insertion sort for linked-list of integers\")\n",
    "plt.plot(x,y10,color=\"orange\", linewidth=3, label = \"Insertion sort for linked-list of strings\")\n",
    "plt.plot(x,y11,color=\"blue\", linewidth=3, label = \"Counting sort for vector of integers\")\n",
    "\n",
    "plt.title('The dependence the speed of the algorithms on the value of the variable')\n",
    "\n",
    "plt.xlabel('x -The value of the variable')\n",
    "plt.ylabel('y -Time required')\n",
    "plt.legend(loc='best')\n",
    "plt.grid(True)\n",
    "plt.show()\n"
   ]
  }
 ],
 "metadata": {
  "kernelspec": {
   "display_name": "Python 3",
   "language": "python",
   "name": "python3"
  },
  "language_info": {
   "codemirror_mode": {
    "name": "ipython",
    "version": 3
   },
   "file_extension": ".py",
   "mimetype": "text/x-python",
   "name": "python",
   "nbconvert_exporter": "python",
   "pygments_lexer": "ipython3",
   "version": "3.6.5"
  }
 },
 "nbformat": 4,
 "nbformat_minor": 2
}
